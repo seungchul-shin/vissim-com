{
 "cells": [
  {
   "cell_type": "markdown",
   "id": "ca4c97b6",
   "metadata": {},
   "source": [
    "ver1.0 \\\n",
    "written on February 09, 2023"
   ]
  },
  {
   "cell_type": "code",
   "execution_count": 2,
   "id": "6a8a635a",
   "metadata": {},
   "outputs": [],
   "source": [
    "# Import libraries\n",
    "import os\n",
    "import win32com.client as com"
   ]
  },
  {
   "cell_type": "code",
   "execution_count": 3,
   "id": "8780c9df",
   "metadata": {},
   "outputs": [],
   "source": [
    "# Connect to the COM Server\n",
    "Vissim = com.gencache.EnsureDispatch(\"Vissim.Vissim.22\")"
   ]
  },
  {
   "cell_type": "markdown",
   "id": "77c24a98",
   "metadata": {},
   "source": [
    "# Configuration"
   ]
  },
  {
   "cell_type": "code",
   "execution_count": 5,
   "id": "82fe023a",
   "metadata": {},
   "outputs": [
    {
     "data": {
      "text/plain": [
       "<win32com.gen_py.Vissim Object Library 22.0 64 Bit.ILinkContainer instance at 0x2343674513200>"
      ]
     },
     "execution_count": 5,
     "metadata": {},
     "output_type": "execute_result"
    }
   ],
   "source": [
    "Vissim.Net.Links"
   ]
  },
  {
   "cell_type": "code",
   "execution_count": 6,
   "id": "2dffdbf3",
   "metadata": {},
   "outputs": [
    {
     "data": {
      "text/plain": [
       "<win32com.gen_py.Vissim Object Library 22.0 64 Bit.ILink instance at 0x2343703621744>"
      ]
     },
     "execution_count": 6,
     "metadata": {},
     "output_type": "execute_result"
    }
   ],
   "source": [
    "# Set an aterial road\n",
    "\n",
    "## Left-most\n",
    "Vissim.Net.Links.AddLink(1, \"LineString(0 0, 300 0)\", [3.25, 3.25])\n",
    "Vissim.Net.Links.AddLink(3, \"LineString(300 6.5, 0 6.5)\", [3.25, 3.25])\n",
    "\n",
    "## Intersection 1~2: 560 meters\n",
    "Vissim.Net.Links.AddLink(101, \"LineString(326 0, 886 0)\", [3.25, 3.25])\n",
    "Vissim.Net.Links.AddLink(111, \"LineString(886 6.5, 326 6.5)\", [3.25, 3.25])\n",
    "\n",
    "## Intersection 2~3: 180 meters\n",
    "Vissim.Net.Links.AddLink(102, \"LineString(912 0, 1092 0)\", [3.25, 3.25])\n",
    "Vissim.Net.Links.AddLink(112, \"LineString(1092 6.5, 912 6.5)\", [3.25, 3.25])\n",
    "\n",
    "## Intersection 3~4: 360 meters\n",
    "Vissim.Net.Links.AddLink(103, \"LineString(1118 0, 1478 0)\", [3.25, 3.25])\n",
    "Vissim.Net.Links.AddLink(113, \"LineString(1478 6.5, 1118 6.5)\", [3.25, 3.25])\n",
    "\n",
    "## Intersection 4~5: 350 meters\n",
    "Vissim.Net.Links.AddLink(104, \"LineString(1504 0, 1854 0)\", [3.25, 3.25])\n",
    "Vissim.Net.Links.AddLink(114, \"LineString(1854 6.5, 1504 6.5)\", [3.25, 3.25])\n",
    "\n",
    "## Intersection 5~6: 440 meters\n",
    "Vissim.Net.Links.AddLink(105, \"LineString(1880 0, 2320 0)\", [3.25, 3.25])\n",
    "Vissim.Net.Links.AddLink(115, \"LineString(2320 6.5, 1880 6.5)\", [3.25, 3.25])\n",
    "\n",
    "## Intersection 6~7: 260 meters\n",
    "Vissim.Net.Links.AddLink(106, \"LineString(2346 0, 2606 0)\", [3.25, 3.25])\n",
    "Vissim.Net.Links.AddLink(116, \"LineString(2606 6.5, 2346 6.5)\", [3.25, 3.25])\n",
    "\n",
    "## Intersection 7~8: 270 meters\n",
    "Vissim.Net.Links.AddLink(107, \"LineString(2632 0, 2902 0)\", [3.25, 3.25])\n",
    "Vissim.Net.Links.AddLink(117, \"LineString(2902 6.5, 2632 6.5)\", [3.25, 3.25])\n",
    "\n",
    "## Intersection 8~9: 520 meters\n",
    "Vissim.Net.Links.AddLink(108, \"LineString(2928 0, 3448 0)\", [3.25, 3.25])\n",
    "Vissim.Net.Links.AddLink(118, \"LineString(3448 6.5, 2928 6.5)\", [3.25, 3.25])\n",
    "\n",
    "## Intersection 9~10: 400 meters\n",
    "Vissim.Net.Links.AddLink(109, \"LineString(3474 0, 3874 0)\", [3.25, 3.25])\n",
    "Vissim.Net.Links.AddLink(119, \"LineString(3874 6.5, 3474 6.5)\", [3.25, 3.25])\n",
    "\n",
    "## Intersection 10~11: 210 meters\n",
    "Vissim.Net.Links.AddLink(110, \"LineString(3900 0, 4110 0)\", [3.25, 3.25])\n",
    "Vissim.Net.Links.AddLink(120, \"LineString(4110 6.5, 3900 6.5)\", [3.25, 3.25])\n",
    "\n",
    "# Right-most\n",
    "Vissim.Net.Links.AddLink(2, \"LineString(4136 0, 4436 0)\", [3.25, 3.25])\n",
    "Vissim.Net.Links.AddLink(4, \"LineString(4436 6.5, 4136 6.5)\", [3.25, 3.25])"
   ]
  },
  {
   "cell_type": "code",
   "execution_count": 11,
   "id": "db0ea3d8",
   "metadata": {},
   "outputs": [],
   "source": [
    "# # Generate an Opposite direction\n",
    "# L2 = Vissim.Net.Links.ItemByKey(2)\n",
    "# Vissim.Net.Links.GenerateOppositeDirection(L2, 2)"
   ]
  },
  {
   "cell_type": "code",
   "execution_count": 12,
   "id": "4afa7b04",
   "metadata": {},
   "outputs": [
    {
     "data": {
      "text/plain": [
       "<win32com.gen_py.Vissim Object Library 22.0 64 Bit.ILink instance at 0x2142781692656>"
      ]
     },
     "execution_count": 12,
     "metadata": {},
     "output_type": "execute_result"
    }
   ],
   "source": [
    "# Set a collector and distributor\n",
    "\n",
    "## Intersection 1\n",
    "Vissim.Net.Links.AddLink(201, \"LineString(316 13, 316 313)\", [3.25, 3.0])\n",
    "Vissim.Net.Links.AddLink(211, \"LineString(309.75 313, 309.75 13)\", [3.25, 3.0])\n",
    "\n",
    "Vissim.Net.Links.AddLink(202, \"LineString(316 -307, 316 -7)\", [3.25, 3.0])\n",
    "Vissim.Net.Links.AddLink(212, \"LineString(309.75 -7, 309.75 -307)\", [3.25, 3.0])\n",
    "\n",
    "## Intersection 2\n",
    "Vissim.Net.Links.AddLink(203, \"LineString(902 13, 902 313)\", [3.25, 3.0])\n",
    "Vissim.Net.Links.AddLink(213, \"LineString(895.75 313, 895.75 13)\", [3.25, 3.0])\n",
    "\n",
    "Vissim.Net.Links.AddLink(204, \"LineString(902 -307, 902 -7)\", [3.25, 3.0])\n",
    "Vissim.Net.Links.AddLink(214, \"LineString(895.75 -7, 895.75 -307)\", [3.25, 3.0])\n",
    "\n",
    "## Intersection 3\n",
    "Vissim.Net.Links.AddLink(205, \"LineString(1108 13, 1108 313)\", [3.25, 3.0])\n",
    "Vissim.Net.Links.AddLink(215, \"LineString(1101.75 313, 1101.75 13)\", [3.25, 3.0])\n",
    "\n",
    "Vissim.Net.Links.AddLink(206, \"LineString(1108 -307, 1108 -7)\", [3.25, 3.0])\n",
    "Vissim.Net.Links.AddLink(216, \"LineString(1101.75 -7, 1101.75 -307)\", [3.25, 3.0])\n",
    "\n",
    "## Intersection 4\n",
    "Vissim.Net.Links.AddLink(207, \"LineString(1494 13, 1494 313)\", [3.25, 3.0])\n",
    "Vissim.Net.Links.AddLink(217, \"LineString(1487.75 313, 1487.75 13)\", [3.25, 3.0])\n",
    "\n",
    "Vissim.Net.Links.AddLink(208, \"LineString(1494 -307, 1494 -7)\", [3.25, 3.0])\n",
    "Vissim.Net.Links.AddLink(218, \"LineString(1487.75 -7, 1487.75 -307)\", [3.25, 3.0])\n",
    "\n",
    "## Intersection 5\n",
    "Vissim.Net.Links.AddLink(209, \"LineString(1870 13, 1870 313)\", [3.25, 3.0])\n",
    "Vissim.Net.Links.AddLink(219, \"LineString(1863.75 313, 1863.75 13)\", [3.25, 3.0])\n",
    "\n",
    "Vissim.Net.Links.AddLink(240, \"LineString(1870 -307, 1870 -7)\", [3.25, 3.0])\n",
    "Vissim.Net.Links.AddLink(250, \"LineString(1863.75 -7, 1863.75 -307)\", [3.25, 3.0])\n",
    "\n",
    "# ## Intersection 6\n",
    "Vissim.Net.Links.AddLink(243, \"LineString(2336 13, 2336 313)\", [3.25, 3.0])\n",
    "Vissim.Net.Links.AddLink(253, \"LineString(2329.75 313, 2329.75 13)\", [3.25, 3.0])\n",
    "\n",
    "Vissim.Net.Links.AddLink(244, \"LineString(2336 -307, 2336 -7)\", [3.25, 3.0])\n",
    "Vissim.Net.Links.AddLink(254, \"LineString(2329.75 -7, 2329.75 -307)\", [3.25, 3.0])\n",
    "\n",
    "## Intersection 7\n",
    "Vissim.Net.Links.AddLink(245, \"LineString(2622 13, 2622 313)\", [3.25, 3.0])\n",
    "Vissim.Net.Links.AddLink(255, \"LineString(2615.75 313, 2615.75 13)\", [3.25, 3.0])\n",
    "\n",
    "Vissim.Net.Links.AddLink(246, \"LineString(2622 -307, 2622 -7)\", [3.25, 3.0])\n",
    "Vissim.Net.Links.AddLink(256, \"LineString(2615.75 -7, 2615.75 -307)\", [3.25, 3.0])\n",
    "\n",
    "## Intersection 8\n",
    "Vissim.Net.Links.AddLink(247, \"LineString(2918 13, 2918 313)\", [3.25, 3.0])\n",
    "Vissim.Net.Links.AddLink(257, \"LineString(2911.75 313, 2911.75 13)\", [3.25, 3.0])\n",
    "\n",
    "Vissim.Net.Links.AddLink(248, \"LineString(2918 -307, 2918 -7)\", [3.25, 3.0])\n",
    "Vissim.Net.Links.AddLink(258, \"LineString(2911.75 -7, 2911.75 -307)\", [3.25, 3.0])\n",
    "\n",
    "## Intersection 9\n",
    "Vissim.Net.Links.AddLink(249, \"LineString(3464 13, 3464 313)\", [3.25, 3.0])\n",
    "Vissim.Net.Links.AddLink(259, \"LineString(3457.75 313, 3457.75 13)\", [3.25, 3.0])\n",
    "\n",
    "Vissim.Net.Links.AddLink(280, \"LineString(3464 -307, 3464 -7)\", [3.25, 3.0])\n",
    "Vissim.Net.Links.AddLink(290, \"LineString(3457.75 -7, 3457.75 -307)\", [3.25, 3.0])\n",
    "\n",
    "## Intersection 10\n",
    "Vissim.Net.Links.AddLink(281, \"LineString(3890 13, 3890 313)\", [3.25, 3.0])\n",
    "Vissim.Net.Links.AddLink(291, \"LineString(3883.75 313, 3883.75 13)\", [3.25, 3.0])\n",
    "\n",
    "Vissim.Net.Links.AddLink(282, \"LineString(3890 -307, 3890 -7)\", [3.25, 3.0])\n",
    "Vissim.Net.Links.AddLink(292, \"LineString(3883.75 -7, 3883.75 -307)\", [3.25, 3.0])\n",
    "\n",
    "## Intersection 11\n",
    "Vissim.Net.Links.AddLink(283, \"LineString(4126 13, 4126 313)\", [3.25, 3.0])\n",
    "Vissim.Net.Links.AddLink(293, \"LineString(4119.75 313, 4119.75 13)\", [3.25, 3.0])\n",
    "\n",
    "Vissim.Net.Links.AddLink(284, \"LineString(4126 -307, 4126 -7)\", [3.25, 3.0])\n",
    "Vissim.Net.Links.AddLink(294, \"LineString(4119.75 -7, 4119.75 -307)\", [3.25, 3.0])"
   ]
  },
  {
   "cell_type": "markdown",
   "id": "dde4c55b",
   "metadata": {},
   "source": [
    "# Load Net"
   ]
  },
  {
   "cell_type": "code",
   "execution_count": 8,
   "id": "5f5579e2",
   "metadata": {},
   "outputs": [],
   "source": [
    "# Load Net\n",
    "fp = r\"C:\\Users\\HP\\Desktop\\PTV Vissim\\SolarSeaDo\"\n",
    "fn = \"Signalized01\"\n",
    "\n",
    "Vissim.LoadNet(os.path.join(fp, fn+\".inpx\"), False)\n",
    "Vissim.LoadLayout(os.path.join(fp, fn+\".layx\"))"
   ]
  },
  {
   "cell_type": "markdown",
   "id": "2ad1caaf",
   "metadata": {},
   "source": [
    "# Simulation"
   ]
  },
  {
   "cell_type": "code",
   "execution_count": 9,
   "id": "cbc0541c",
   "metadata": {},
   "outputs": [],
   "source": [
    "# Quick mode\n",
    "Vissim.Graphics.CurrentNetworkWindow.SetAttValue('QuickMode', 1)"
   ]
  },
  {
   "cell_type": "code",
   "execution_count": null,
   "id": "abf2b9e2",
   "metadata": {},
   "outputs": [],
   "source": [
    "# Chose Random Seed\n",
    "Random_Seed = 42\n",
    "Vissim.Simulation.SetAttValue('RandSeed', Random_Seed)\n",
    "\n",
    "# Set Resolution: 1~10\n",
    "Vissim.Simulation.SetAttValue('SimRes', 1)"
   ]
  },
  {
   "cell_type": "code",
   "execution_count": null,
   "id": "9dc51260",
   "metadata": {},
   "outputs": [],
   "source": [
    "# Set simulation parameters\n",
    "End_of_simulation = 600 # simulation second [s]\n",
    "Vissim.Simulation.SetAttValue('SimPeriod', End_of_simulation)\n",
    "\n",
    "Sim_break_at = 200 # simulation second [s]\n",
    "Vissim.Simulation.SetAttValue('SimBreakAt', Sim_break_at)"
   ]
  },
  {
   "cell_type": "code",
   "execution_count": null,
   "id": "2af4b5d7",
   "metadata": {},
   "outputs": [],
   "source": [
    "# Set maximum speed:\n",
    "Vissim.Simulation.SetAttValue('UseMaxSimSpeed', True)\n",
    "# Hint: to change the simulation speed use: Vissim.Simulation.SetAttValue('SimSpeed', 10) # 10 => 10 Sim. sec. / s"
   ]
  },
  {
   "cell_type": "code",
   "execution_count": null,
   "id": "24359b41",
   "metadata": {},
   "outputs": [],
   "source": [
    "# To start a simulation you can run a single step:\n",
    "Vissim.Simulation.RunSingleStep()"
   ]
  },
  {
   "cell_type": "code",
   "execution_count": null,
   "id": "bcce5593",
   "metadata": {},
   "outputs": [],
   "source": [
    "# Run the simulation continuous (it stops at breakpoint or end of simulation)\n",
    "Vissim.Simulation.RunContinuous()"
   ]
  },
  {
   "cell_type": "code",
   "execution_count": null,
   "id": "bd01d6bb",
   "metadata": {},
   "outputs": [],
   "source": [
    "# To stop the simulation:\n",
    "Vissim.Simulation.Stop()"
   ]
  },
  {
   "cell_type": "markdown",
   "id": "c4104401",
   "metadata": {},
   "source": [
    "# Save & Exit"
   ]
  },
  {
   "cell_type": "code",
   "execution_count": 7,
   "id": "fc53864b",
   "metadata": {},
   "outputs": [],
   "source": [
    "# # Save file\n",
    "# fp = r\"C:\\Users\\HP\\Desktop\\PTV Vissim\\SolarSeaDo\"\n",
    "# fn = \"Roundabout01\"\n",
    "\n",
    "# Vissim.SaveNetAs(os.path.join(fp, fn+\".inpx\"))\n",
    "# Vissim.SaveLayout(os.path.join(fp, fn+\".layx\"))"
   ]
  },
  {
   "cell_type": "code",
   "execution_count": 8,
   "id": "e8b9dc0d",
   "metadata": {},
   "outputs": [],
   "source": [
    "Vissim = None"
   ]
  },
  {
   "cell_type": "code",
   "execution_count": null,
   "id": "f58eb5c4",
   "metadata": {},
   "outputs": [],
   "source": []
  }
 ],
 "metadata": {
  "kernelspec": {
   "display_name": "Python 3 (ipykernel)",
   "language": "python",
   "name": "python3"
  },
  "language_info": {
   "codemirror_mode": {
    "name": "ipython",
    "version": 3
   },
   "file_extension": ".py",
   "mimetype": "text/x-python",
   "name": "python",
   "nbconvert_exporter": "python",
   "pygments_lexer": "ipython3",
   "version": "3.9.5"
  }
 },
 "nbformat": 4,
 "nbformat_minor": 5
}

{
 "cells": [
  {
   "cell_type": "code",
   "execution_count": 5,
   "id": "8aedecd1",
   "metadata": {},
   "outputs": [],
   "source": [
    "# Import libraries\n",
    "import win32com.client as com\n",
    "import os\n",
    "import numpy as np"
   ]
  },
  {
   "cell_type": "code",
   "execution_count": 6,
   "id": "ed8b2c22",
   "metadata": {},
   "outputs": [],
   "source": [
    "# Connect to the COM Server\n",
    "Vissim = com.gencache.EnsureDispatch(\"Vissim.Vissim.22\")"
   ]
  },
  {
   "cell_type": "code",
   "execution_count": 11,
   "id": "cbc80f0d",
   "metadata": {},
   "outputs": [],
   "source": [
    "# Load Net\n",
    "fp = r\"C:\\Users\\HP\\Desktop\\PTV Vissim\\SimpleSignalControl\"\n",
    "fn = \"SimpleSignalControl01\"\n",
    "\n",
    "Vissim.LoadNet(os.path.join(fp, fn+\".inpx\"), False)\n",
    "Vissim.LoadLayout(os.path.join(fp, fn+\".layx\"))"
   ]
  },
  {
   "cell_type": "code",
   "execution_count": 14,
   "id": "d7e2b44c",
   "metadata": {},
   "outputs": [],
   "source": [
    "# Quick mode\n",
    "Vissim.Graphics.CurrentNetworkWindow.SetAttValue('QuickMode', 0)"
   ]
  },
  {
   "cell_type": "code",
   "execution_count": 15,
   "id": "55e75188",
   "metadata": {},
   "outputs": [],
   "source": [
    "# Set Simulation params\n",
    "Vissim.Simulation.SetAttValue('RandSeed', 42)\n",
    "Vissim.Simulation.SetAttValue('SimRes', 1)"
   ]
  },
  {
   "cell_type": "code",
   "execution_count": 27,
   "id": "fdf0d006",
   "metadata": {},
   "outputs": [],
   "source": [
    "# User Code\n",
    "end_time = 400\n",
    "time = 1\n",
    "\n",
    "SC = Vissim.Net.SignalControllers.ItemByKey(1)\n",
    "\n",
    "SG = []\n",
    "for i in range(1,3):\n",
    "    SG.append(SC.SGs.ItemByKey(i))\n",
    "    \n",
    "while True:\n",
    "    Vissim.Simulation.RunSingleStep()\n",
    "    \n",
    "    if time < 100:\n",
    "        SG[0].SetAttValue('State', 'GREEN')\n",
    "        SG[1].SetAttValue('State', 'GREEN')\n",
    "        \n",
    "    elif time < 200:\n",
    "        SG[0].SetAttValue('State', 'RED')\n",
    "        SG[1].SetAttValue('State', 'GREEN')\n",
    "    \n",
    "    elif time < 300:\n",
    "        SG[0].SetAttValue('State', 'GREEN')\n",
    "        SG[1].SetAttValue('State', 'RED')\n",
    "    \n",
    "    else:\n",
    "        SG[0].SetAttValue('State', 'GREEN')\n",
    "        SG[1].SetAttValue('State', 'GREEN')\n",
    "        \n",
    "    time+=1\n",
    "    if time > end_time:\n",
    "        break\n",
    "\n",
    "Vissim.Simulation.Stop()"
   ]
  },
  {
   "cell_type": "code",
   "execution_count": 28,
   "id": "1baf2f9e",
   "metadata": {},
   "outputs": [],
   "source": [
    "# Exit\n",
    "Vissim = None"
   ]
  },
  {
   "cell_type": "code",
   "execution_count": null,
   "id": "d4afde60",
   "metadata": {},
   "outputs": [],
   "source": []
  }
 ],
 "metadata": {
  "kernelspec": {
   "display_name": "Python 3 (ipykernel)",
   "language": "python",
   "name": "python3"
  },
  "language_info": {
   "codemirror_mode": {
    "name": "ipython",
    "version": 3
   },
   "file_extension": ".py",
   "mimetype": "text/x-python",
   "name": "python",
   "nbconvert_exporter": "python",
   "pygments_lexer": "ipython3",
   "version": "3.9.5"
  }
 },
 "nbformat": 4,
 "nbformat_minor": 5
}
